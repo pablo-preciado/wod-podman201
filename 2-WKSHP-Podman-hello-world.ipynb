{
 "cells": [
  {
   "cell_type": "markdown",
   "metadata": {},
   "source": [
    "![Podmanlogo](Pictures/podman-logo.png)"
   ]
  },
  {
   "cell_type": "markdown",
   "metadata": {},
   "source": [
    "# Podman storage\n",
    "\n",
    "As explained through the Podman 101 workshop, once a container is deleted all the data stored in it is also deleted. This is a problem for certain applications that may require to persist data.\n",
    "Think of a containerized database, at some point you will update the database version, to achieve this you'll delete your old version container and deploy the new version container. In this example all the data stored in the database would be lost. Then, how can application data be preserved? Podman provides some different options for adding persistent storage and manage volumes, we are going to explore them throught this section of the workshop.\n",
    "\n",
    "## Store Data on Host Machine\n",
    "\n",
    "Podman provides mechanisms to use container host machine storage by using volumes and bind mounts. It provides the following benefits:\n",
    " - Data stored in the container host machine persists across container deletions.\n",
    " - As you're not using the Copy On Write (COW) filesystem within the container, it will usually provide better write performance.\n",
    " - Data can be shared between multiple containers. A typical examples is when one container is accessing to the volume for read/write operations while a second container is accessing only for reads.\n",
    " - It's possible to use external storage as you can host data mounts over the network, for examples by using NFS.\n",
    "\n",
    "There are two ways of managing storage: volumes and binds. Volumes are fully managed by Podman while binds are data mounts managed by the user.\n",
    "\n",
    "Let's begin with binds, first we need to create a directory in which we will store our data."
   ]
  },
  {
   "cell_type": "code",
   "execution_count": 2,
   "metadata": {
    "vscode": {
     "languageId": "shellscript"
    }
   },
   "outputs": [
    {
     "name": "stdout",
     "output_type": "stream",
     "text": [
      "mkdir: cannot create directory ‘/home/ppreciad/my-persistent-storage’: File exists\n"
     ]
    }
   ],
   "source": [
    "!mkdir ~/my-persistent-storage"
   ]
  },
  {
   "cell_type": "markdown",
   "metadata": {},
   "source": [
    "Now, lets move into the new directory and create an index.html file that we will use later for our containerized webserver."
   ]
  },
  {
   "cell_type": "code",
   "execution_count": 12,
   "metadata": {
    "vscode": {
     "languageId": "shellscript"
    }
   },
   "outputs": [],
   "source": [
    "!cd ~/my-persistent-storage\n",
    "!echo \"This message is stored in the container host, in the directory ~/my-persistent-storage\" > ~/my-persistent-storage/index.html\n",
    "!cat index.html"
   ]
  },
  {
   "cell_type": "markdown",
   "metadata": {},
   "source": [
    "Now we can use an nginx web server container image without any storage mounted to it."
   ]
  },
  {
   "cell_type": "code",
   "execution_count": 13,
   "metadata": {
    "vscode": {
     "languageId": "shellscript"
    }
   },
   "outputs": [
    {
     "name": "stdout",
     "output_type": "stream",
     "text": [
      "Resolved \"nginx\" as an alias (/home/ppreciad/.cache/containers/short-name-aliases.conf)\n",
      "Trying to pull docker.io/library/nginx:latest...\n",
      "Getting image source signatures\n",
      "Copying blob e5fab51fcab0 [--------------] 0.0b / 1.2KiB (skipped: 0.0b = 0.00%)\n",
      "Copying blob e5fab51fcab0 [=============>----------] 716.0b / 1.2KiB | 4.0 MiB/s\n",
      "Copying blob af107e978371 [-------------] 0.0b / 27.8MiB (skipped: 0.0b = 0.00%)\n",
      "Copying blob af107e978371 [---------------------------] 0.0b / 27.8MiB | 0.0 b/s\n",
      "Copying blob 8fb6e3475860 [--------------] 0.0b / 626.0b (skipped: 0.0b = 0.00%)\n",
      "Copying blob 8fb6e3475860 [----------------------------] 0.0b / 626.0b | 0.0 b/s\n",
      "Copying blob 1581bea9f1d2 [-------------] 0.0b / 39.5MiB (skipped: 0.0b = 0.00%)\n",
      "Copying blob 1581bea9f1d2 [---------------------------] 0.0b / 39.5MiB | 0.0 b/s\n",
      "Copying blob 7bfc9d79c672 [--------------] 0.0b / 959.0b (skipped: 0.0b = 0.00%)\n",
      "Copying blob 7bfc9d79c672 [----------------------------] 0.0b / 959.0b | 0.0 b/s\n",
      "Copying blob 3ebd268aebca [--------------] 0.0b / 370.0b (skipped: 0.0b = 0.00%)\n",
      "Copying blob 3ebd268aebca [----------------------------] 0.0b / 370.0b | 0.0 b/s\n",
      "\u001b[12A\u001b[JCopying blob e5fab51fcab0 [--------------] 0.0b / 1.2KiB (skipped: 0.0b = 0.00%)\n",
      "Copying blob e5fab51fcab0 done   | \n",
      "Copying blob af107e978371 [-------------] 0.0b / 27.8MiB (skipped: 0.0b = 0.00%)\n",
      "Copying blob af107e978371 [--------------------] 658.3KiB / 27.8MiB | 56.4 MiB/s\n",
      "Copying blob 8fb6e3475860 [--------------] 0.0b / 626.0b (skipped: 0.0b = 0.00%)\n",
      "Copying blob 8fb6e3475860 [----------------------------] 0.0b / 626.0b | 0.0 b/s\n",
      "Copying blob 1581bea9f1d2 [-------------] 0.0b / 39.5MiB (skipped: 0.0b = 0.00%)\n",
      "Copying blob 1581bea9f1d2 [---------------------------] 0.0b / 39.5MiB | 0.0 b/s\n",
      "Copying blob 7bfc9d79c672 [--------------] 0.0b / 959.0b (skipped: 0.0b = 0.00%)\n",
      "Copying blob 7bfc9d79c672 [----------------------------] 0.0b / 959.0b | 0.0 b/s\n",
      "Copying blob 3ebd268aebca [--------------] 0.0b / 370.0b (skipped: 0.0b = 0.00%)\n",
      "Copying blob 3ebd268aebca [----------------------------] 0.0b / 370.0b | 0.0 b/s\n",
      "Copying blob 04dda7b4828c [--------------] 0.0b / 1.4KiB (skipped: 0.0b = 0.00%)\n",
      "Copying blob 04dda7b4828c [----------------------------] 0.0b / 1.4KiB | 0.0 b/s\n",
      "\u001b[14A\u001b[JCopying blob e5fab51fcab0 done   | \n",
      "Copying blob af107e978371 [====>----------------] 7.1MiB / 27.8MiB | 238.6 MiB/s\n",
      "Copying blob 8fb6e3475860 [----------------------------] 0.0b / 626.0b | 0.0 b/s\n",
      "Copying blob 1581bea9f1d2 [--------------------] 303.3KiB / 39.5MiB | 25.5 MiB/s\n",
      "Copying blob 7bfc9d79c672 [----------------------------] 0.0b / 959.0b | 0.0 b/s\n",
      "Copying blob 3ebd268aebca [----------------------------] 0.0b / 370.0b | 0.0 b/s\n",
      "Copying blob 04dda7b4828c [--------------] 0.0b / 1.4KiB (skipped: 0.0b = 0.00%)\n",
      "Copying blob 04dda7b4828c done   | \n",
      "\u001b[8A\u001b[JCopying blob e5fab51fcab0 done   | \n",
      "Copying blob af107e978371 [=========>----------] 14.0MiB / 27.8MiB | 226.3 MiB/s\n",
      "Copying blob 8fb6e3475860 done   | \n",
      "Copying blob 1581bea9f1d2 [=>-------------------] 4.1MiB / 39.5MiB | 120.5 MiB/s\n",
      "Copying blob 7bfc9d79c672 done   | \n",
      "Copying blob 3ebd268aebca [----------------------------] 0.0b / 370.0b | 0.0 b/s\n",
      "Copying blob 04dda7b4828c done   | \n",
      "\u001b[7A\u001b[JCopying blob e5fab51fcab0 done   | \n",
      "Copying blob af107e978371 [==============>-----] 20.2MiB / 27.8MiB | 156.5 MiB/s\n",
      "Copying blob 8fb6e3475860 done   | \n",
      "Copying blob 1581bea9f1d2 [====>----------------] 8.5MiB / 39.5MiB | 102.3 MiB/s\n",
      "Copying blob 7bfc9d79c672 done   | \n",
      "Copying blob 3ebd268aebca done   | \n",
      "Copying blob 04dda7b4828c done   | \n",
      "\u001b[7A\u001b[JCopying blob e5fab51fcab0 done   | \n",
      "Copying blob af107e978371 [==================>-] 26.2MiB / 27.8MiB | 281.7 MiB/s\n",
      "Copying blob 8fb6e3475860 done   | \n",
      "Copying blob 1581bea9f1d2 [======>--------------] 13.4MiB / 39.5MiB | 66.0 MiB/s\n",
      "Copying blob 7bfc9d79c672 done   | \n",
      "Copying blob 3ebd268aebca done   | \n",
      "Copying blob 04dda7b4828c done   | \n",
      "\u001b[7A\u001b[JCopying blob e5fab51fcab0 done   | \n",
      "Copying blob af107e978371 done   | \n",
      "Copying blob 8fb6e3475860 done   | \n",
      "Copying blob 1581bea9f1d2 [========>-----------] 18.2MiB / 39.5MiB | 169.4 MiB/s\n",
      "Copying blob 7bfc9d79c672 done   | \n",
      "Copying blob 3ebd268aebca done   | \n",
      "Copying blob 04dda7b4828c done   | \n",
      "\u001b[7A\u001b[JCopying blob e5fab51fcab0 done   | \n",
      "Copying blob af107e978371 done   | \n",
      "Copying blob 8fb6e3475860 done   | \n",
      "Copying blob 1581bea9f1d2 [============>-------] 25.5MiB / 39.5MiB | 243.3 MiB/s\n",
      "Copying blob 7bfc9d79c672 done   | \n",
      "Copying blob 3ebd268aebca done   | \n",
      "Copying blob 04dda7b4828c done   | \n",
      "\u001b[7A\u001b[JCopying blob e5fab51fcab0 done   | \n",
      "Copying blob af107e978371 done   | \n",
      "Copying blob 8fb6e3475860 done   | \n",
      "Copying blob 1581bea9f1d2 [===============>----] 32.5MiB / 39.5MiB | 246.7 MiB/s\n",
      "Copying blob 7bfc9d79c672 done   | \n",
      "Copying blob 3ebd268aebca done   | \n",
      "Copying blob 04dda7b4828c done   | \n",
      "\u001b[7A\u001b[JCopying blob e5fab51fcab0 done   | \n",
      "Copying blob af107e978371 done   | \n",
      "Copying blob 8fb6e3475860 done   | \n",
      "Copying blob 1581bea9f1d2 [==================>-] 38.2MiB / 39.5MiB | 177.8 MiB/s\n",
      "Copying blob 7bfc9d79c672 done   | \n",
      "Copying blob 3ebd268aebca done   | \n",
      "Copying blob 04dda7b4828c done   | \n",
      "\u001b[7A\u001b[JCopying blob e5fab51fcab0 done   | \n",
      "Copying blob af107e978371 done   | \n",
      "Copying blob 8fb6e3475860 done   | \n",
      "Copying blob 1581bea9f1d2 done   | \n",
      "Copying blob 7bfc9d79c672 done   | \n",
      "Copying blob 3ebd268aebca done   | \n",
      "Copying blob 04dda7b4828c done   | \n",
      "\u001b[7A\u001b[JCopying blob e5fab51fcab0 done   | \n",
      "Copying blob af107e978371 done   | \n",
      "Copying blob 8fb6e3475860 done   | \n",
      "Copying blob 1581bea9f1d2 done   | \n",
      "Copying blob 7bfc9d79c672 done   | \n",
      "Copying blob 3ebd268aebca done   | \n",
      "Copying blob 04dda7b4828c done   | \n",
      "\u001b[7A\u001b[JCopying blob e5fab51fcab0 done   | \n",
      "Copying blob af107e978371 done   | \n",
      "Copying blob 8fb6e3475860 done   | \n",
      "Copying blob 1581bea9f1d2 done   | \n",
      "Copying blob 7bfc9d79c672 done   | \n",
      "Copying blob 3ebd268aebca done   | \n",
      "Copying blob 04dda7b4828c done   | \n",
      "\u001b[7A\u001b[JCopying blob e5fab51fcab0 done   | \n",
      "Copying blob af107e978371 done   | \n",
      "Copying blob 8fb6e3475860 done   | \n",
      "Copying blob 1581bea9f1d2 done   | \n",
      "Copying blob 7bfc9d79c672 done   | \n",
      "Copying blob 3ebd268aebca done   | \n",
      "Copying blob 04dda7b4828c done   | \n",
      "\u001b[7A\u001b[JCopying blob e5fab51fcab0 done   | \n",
      "Copying blob af107e978371 done   | \n",
      "Copying blob 8fb6e3475860 done   | \n",
      "Copying blob 1581bea9f1d2 done   | \n",
      "Copying blob 7bfc9d79c672 done   | \n",
      "Copying blob 3ebd268aebca done   | \n",
      "Copying blob 04dda7b4828c done   | \n",
      "\u001b[7A\u001b[JCopying blob e5fab51fcab0 done   | \n",
      "Copying blob af107e978371 done   | \n",
      "Copying blob 8fb6e3475860 done   | \n",
      "Copying blob 1581bea9f1d2 done   | \n",
      "Copying blob 7bfc9d79c672 done   | \n",
      "Copying blob 3ebd268aebca done   | \n",
      "Copying blob 04dda7b4828c done   | \n",
      "\u001b[7A\u001b[JCopying blob e5fab51fcab0 done   | \n",
      "Copying blob af107e978371 done   | \n",
      "Copying blob 8fb6e3475860 done   | \n",
      "Copying blob 1581bea9f1d2 done   | \n",
      "Copying blob 7bfc9d79c672 done   | \n",
      "Copying blob 3ebd268aebca done   | \n",
      "Copying blob 04dda7b4828c done   | \n",
      "\u001b[7A\u001b[JCopying blob e5fab51fcab0 done   | \n",
      "Copying blob af107e978371 done   | \n",
      "Copying blob 8fb6e3475860 done   | \n",
      "Copying blob 1581bea9f1d2 done   | \n",
      "Copying blob 7bfc9d79c672 done   | \n",
      "Copying blob 3ebd268aebca done   | \n",
      "Copying blob 04dda7b4828c done   | \n",
      "Copying config 2a36393eda done   | \n",
      "\u001b[1A\u001b[JCopying config 2a36393eda done   | \n",
      "\u001b[1A\u001b[JCopying config 2a36393eda done   | \n",
      "Writing manifest to image destination\n",
      "f41db4afcd3630381b0f4803a149e2f8ffe93f004a746de9481c61a0aec18231\n"
     ]
    }
   ],
   "source": [
    "!podman run -it --rm -d -p 8080:80 --name my-web-server nginx"
   ]
  },
  {
   "cell_type": "markdown",
   "metadata": {},
   "source": [
    "Verify it's running and showing the default message."
   ]
  },
  {
   "cell_type": "code",
   "execution_count": 14,
   "metadata": {
    "vscode": {
     "languageId": "shellscript"
    }
   },
   "outputs": [
    {
     "name": "stdout",
     "output_type": "stream",
     "text": [
      "<!DOCTYPE html>\n",
      "<html>\n",
      "<head>\n",
      "<title>Welcome to nginx!</title>\n",
      "<style>\n",
      "html { color-scheme: light dark; }\n",
      "body { width: 35em; margin: 0 auto;\n",
      "font-family: Tahoma, Verdana, Arial, sans-serif; }\n",
      "</style>\n",
      "</head>\n",
      "<body>\n",
      "<h1>Welcome to nginx!</h1>\n",
      "<p>If you see this page, the nginx web server is successfully installed and\n",
      "working. Further configuration is required.</p>\n",
      "\n",
      "<p>For online documentation and support please refer to\n",
      "<a href=\"http://nginx.org/\">nginx.org</a>.<br/>\n",
      "Commercial support is available at\n",
      "<a href=\"http://nginx.com/\">nginx.com</a>.</p>\n",
      "\n",
      "<p><em>Thank you for using nginx.</em></p>\n",
      "</body>\n",
      "</html>\n"
     ]
    }
   ],
   "source": [
    "!curl localhost:8080"
   ]
  },
  {
   "cell_type": "markdown",
   "metadata": {},
   "source": [
    "We see the expected behaviour, it shows the default nginx web server file. During Podman 101 workshop we modified this message by creating a new custom container image. Now we are going to demonstrate how to use bind storage to achieve the same results.\n",
    "\n",
    "In this case we will use the \"-v\" or \"--volume\" option in the command and then we will specify the directory to be mounted from the host and the directory in which to mount it inside the container. It has to be expressed in the \"my-container-host-directory:my-container-mount-point:OPTIONS\". The \"OPTIONS\" part is optional, but it's important to use the \":Z\" argument if we have SElinux enabled in our system as it will the proper security context to our directory so our container can use the data within it.\n",
    "\n",
    "Before we can test it we will stop the previous container:"
   ]
  },
  {
   "cell_type": "code",
   "execution_count": 18,
   "metadata": {
    "vscode": {
     "languageId": "shellscript"
    }
   },
   "outputs": [
    {
     "name": "stdout",
     "output_type": "stream",
     "text": [
      "my-web-server\n"
     ]
    }
   ],
   "source": [
    "!podman stop my-web-server"
   ]
  },
  {
   "cell_type": "markdown",
   "metadata": {},
   "source": [
    "Now we can create our new webserver with the bind storage:"
   ]
  },
  {
   "cell_type": "code",
   "execution_count": 19,
   "metadata": {
    "vscode": {
     "languageId": "shellscript"
    }
   },
   "outputs": [
    {
     "name": "stdout",
     "output_type": "stream",
     "text": [
      "eade4b2f26c3a869e61635a1723d5193942a0acc431cfa4cb96af1aa293b6830\n"
     ]
    }
   ],
   "source": [
    "!podman run -it --rm -d -p 8080:80 --name my-web-server -v ~/my-persistent-storage:/usr/share/nginx/html:Z nginx"
   ]
  },
  {
   "cell_type": "markdown",
   "metadata": {},
   "source": [
    "Check the message that it's showing:"
   ]
  },
  {
   "cell_type": "code",
   "execution_count": 20,
   "metadata": {
    "vscode": {
     "languageId": "shellscript"
    }
   },
   "outputs": [
    {
     "name": "stdout",
     "output_type": "stream",
     "text": [
      "This message is stored in the container host, in the directory ~/my-persistent-storage\n"
     ]
    }
   ],
   "source": [
    "!curl localhost:8080"
   ]
  },
  {
   "cell_type": "markdown",
   "metadata": {},
   "source": [
    "With this we have demonstrated how easy it is to use bind mounts and reutilize the same container image with different outputs just by modifying the mount. This is a way of improve efficiency and save storage space as you don't need to create a dedicated container image for each application, in this case for each web server.\n",
    "\n",
    "Before we proceed with volume mounts lets remove our recently created container."
   ]
  },
  {
   "cell_type": "code",
   "execution_count": 21,
   "metadata": {
    "vscode": {
     "languageId": "shellscript"
    }
   },
   "outputs": [
    {
     "name": "stdout",
     "output_type": "stream",
     "text": [
      "my-web-server\n"
     ]
    }
   ],
   "source": [
    "!podman stop my-web-server"
   ]
  },
  {
   "cell_type": "markdown",
   "metadata": {},
   "source": [
    "We've seen how to use binds, in that scenario the user was in responsible for creating a directory and mountin it to the container. With volumes it's Podman who manages the data mounts. You can manage volumes by using the podman volume command."
   ]
  },
  {
   "cell_type": "code",
   "execution_count": 22,
   "metadata": {
    "vscode": {
     "languageId": "shellscript"
    }
   },
   "outputs": [
    {
     "name": "stdout",
     "output_type": "stream",
     "text": [
      "my-persistent-volume\n"
     ]
    }
   ],
   "source": [
    "!podman volume create my-persistent-volume"
   ]
  },
  {
   "cell_type": "markdown",
   "metadata": {},
   "source": [
    "You can list all of your volumes"
   ]
  },
  {
   "cell_type": "code",
   "execution_count": 23,
   "metadata": {
    "vscode": {
     "languageId": "shellscript"
    }
   },
   "outputs": [
    {
     "name": "stdout",
     "output_type": "stream",
     "text": [
      "DRIVER      VOLUME NAME\n",
      "local       ee17c8e83c840d1d6fc6caa5e7963ccebe18ffe5d90cb9bd14910eae73cea8fb\n",
      "local       my-persistent-volume\n"
     ]
    }
   ],
   "source": [
    "!podman volume ls"
   ]
  },
  {
   "cell_type": "markdown",
   "metadata": {},
   "source": [
    "And even get detailed information of them:"
   ]
  },
  {
   "cell_type": "code",
   "execution_count": 25,
   "metadata": {
    "vscode": {
     "languageId": "shellscript"
    }
   },
   "outputs": [
    {
     "name": "stdout",
     "output_type": "stream",
     "text": [
      "[\n",
      "     {\n",
      "          \"Name\": \"my-persistent-volume\",\n",
      "          \"Driver\": \"local\",\n",
      "          \"Mountpoint\": \"/home/ppreciad/.local/share/containers/storage/volumes/my-persistent-volume/_data\",\n",
      "          \"CreatedAt\": \"2023-12-19T10:52:27.494460182+01:00\",\n",
      "          \"Labels\": {},\n",
      "          \"Scope\": \"local\",\n",
      "          \"Options\": {},\n",
      "          \"MountCount\": 0,\n",
      "          \"NeedsCopyUp\": true,\n",
      "          \"NeedsChown\": true,\n",
      "          \"LockNumber\": 0\n",
      "     }\n",
      "]\n"
     ]
    }
   ],
   "source": [
    "!podman inspect my-persistent-volume"
   ]
  },
  {
   "cell_type": "markdown",
   "metadata": {},
   "source": [
    "When you work with volumes in rootless containers, Podman stores the data in the $HOME/.local/share/containers/storage/volumes/ directory.\n",
    "\n",
    "You can mount a volume using the same convention as we used with binds, but instead of specifying a local directory you just need to use the volume name:"
   ]
  },
  {
   "cell_type": "code",
   "execution_count": 85,
   "metadata": {
    "vscode": {
     "languageId": "shellscript"
    }
   },
   "outputs": [
    {
     "name": "stdout",
     "output_type": "stream",
     "text": [
      "e36e022f1c97f801b7d259b6b623c22c34ce73b13a9559f762aa07608ae8cf6a\n"
     ]
    }
   ],
   "source": [
    "!podman run -it --rm -d --name my-persistent-data-container -v my-persistent-volume:/home fedora"
   ]
  },
  {
   "cell_type": "markdown",
   "metadata": {},
   "source": [
    "As Podman is managing the volume you do not need to add the SElinux permissions.\n",
    "\n",
    "As you can see, we have mounted our volume to the /tmp directory. Lets check whats inside it:"
   ]
  },
  {
   "cell_type": "code",
   "execution_count": 86,
   "metadata": {
    "vscode": {
     "languageId": "shellscript"
    }
   },
   "outputs": [
    {
     "name": "stdout",
     "output_type": "stream",
     "text": [
      "data.txt\n"
     ]
    }
   ],
   "source": [
    "!podman exec my-persistent-data-container ls /home"
   ]
  },
  {
   "cell_type": "markdown",
   "metadata": {},
   "source": [
    "The directory is empty, just as expected. Now we will add some information to it:"
   ]
  },
  {
   "cell_type": "code",
   "execution_count": 87,
   "metadata": {
    "vscode": {
     "languageId": "shellscript"
    }
   },
   "outputs": [
    {
     "name": "stdout",
     "output_type": "stream",
     "text": [
      "/bin/bash: line 1: /home/data.txt: Permission denied\n",
      "cat: /home/data.txt: No such file or directory\n"
     ]
    }
   ],
   "source": [
    "!podman exec my-persistent-data-container rm /home/data.txt\n",
    "!podman exec my-persistent-data-container echo \"This is some volume data\" >> /home/data.txt\n",
    "!podman exec my-persistent-data-container cat /home/data.txt"
   ]
  },
  {
   "cell_type": "markdown",
   "metadata": {},
   "source": [
    "You see the previous command failed. This is because the nginx container does not have \"echo\" package installed. Many of the commercial container images use a very limited subset of commands inside the container, this brings two main benefits:\n",
    "- Reduce the storage used by the container image\n",
    "- Reduce the attack surface. If an attacker gains access to the container they'll have a very limited set of tools to attack other systems or modify the one they got access to.\n",
    "\n",
    "This sounds good, but without this tools how can I modify the data within my volumes? There are different ways of achieving that, one of the most common ones is exporting and importing data.\n",
    "\n",
    "First we would need to export the information of our volume."
   ]
  },
  {
   "cell_type": "code",
   "execution_count": 83,
   "metadata": {
    "vscode": {
     "languageId": "shellscript"
    }
   },
   "outputs": [
    {
     "name": "stdout",
     "output_type": "stream",
     "text": [
      "\u001b[33mWARN\u001b[0m[0010] StopSignal SIGTERM failed to stop container my-persistent-data-container in 10 seconds, resorting to SIGKILL \n",
      "my-persistent-data-container\n"
     ]
    }
   ],
   "source": [
    "!podman stop my-persistent-data-container"
   ]
  },
  {
   "cell_type": "markdown",
   "metadata": {},
   "source": [
    "\n",
    "\n",
    "To create a volume called http-data, use the following command:\n",
    "\n",
    "[user@host ~]$ podman volume create http-data\n",
    "d721d941960a2552459637da86c3074bbba12600079f5d58e62a11caf6a591b5\n",
    "\n",
    "You can inspect the volume by using the podman volume inspect command:\n",
    "\n",
    "[user@host ~]$ podman volume inspect http-data\n",
    "[\n",
    "    {\n",
    "        \"Name\": \"http-data\",\n",
    "        \"Driver\": \"local\",\n",
    "        \"Mountpoint\": \"/home/user/.local/share/containers/storage/volumes/http-data/_data\",\n",
    "        \"CreatedAt\": \"2022-07-12T17:10:12.709259987+02:00\",\n",
    "        \"Labels\": {},\n",
    "        \"Scope\": \"local\",\n",
    "        \"Options\": {}\n",
    "    }\n",
    "]\n",
    "\n",
    "For rootless containers, Podman stores local volume data in the $HOME/.local/share/containers/storage/volumes/ directory.\n",
    "\n",
    "To mount the volume into a container, refer to the volume by the volume name:\n",
    "\n",
    "[user@host ~]$ podman run -p 8080:8080 --volume  http-data:/var/www/html \\\n",
    "  registry.access.redhat.com/ubi8/httpd-24:latest\n",
    "\n",
    "Because Podman manages the volume, you do not need to configure SELinux permissions.\n",
    "Exporting and Importing Data with Volumes\n",
    "\n",
    "You can import data from a tar archive into an existing Podman volume by using the podman volume import VOLUME_NAME ARCHIVE_NAME command.\n",
    "\n",
    "[user@host ~]$ podman volume import http_data web_data.tar.gz\n",
    "...no output expected...\n",
    "\n",
    "You can also export data from an existing Podman volume and save it as a tar archive on the local machine by using the podman volume export VOLUME NAME --output ARCHIVE_NAME command.\n",
    "\n",
    "[user@host ~]$ podman volume export http_data --output web_data.tar.gz\n",
    "...no output expected..."
   ]
  },
  {
   "cell_type": "markdown",
   "metadata": {},
   "source": [
    "\n",
    "\n",
    "\n",
    "\n",
    "Volumes are data mounts managed by Podman. Bind mounts are data mounts managed by the user.\n",
    "\n",
    "Both volumes and bind mounts can use the --volume (or -v) parameter.\n",
    "\n",
    "--volume /path/on/host:/path/in/container:OPTIONS\n",
    "\n",
    "In the preceding syntax, the :OPTIONS part is optional. Note that you can specify host paths by using absolute paths, such as /home/user/www, or relative paths, such as ./www, which refers to the www directory in the current working directory.\n",
    "\n",
    "Use -v volume_name:/path/in/container to refer to a volume.\n",
    "\n",
    "Alternatively, you can use the --mount parameter with the following syntax:\n",
    "\n",
    "--mount type=TYPE,source=/path/on/host,destination=/path/in/container\n",
    "\n",
    "The --mount parameter explicitly specifies the volume type, such as:\n",
    "\n",
    "    bind for bind mounts.\n",
    "\n",
    "    volume for volume mounts.\n",
    "\n",
    "    tmpfs for creating memory-only, ephemeral mounts.\n",
    "\n",
    "The --mount parameter is the preferred way of mounting directories in a container. However, because the -v parameter is still widely used, this course uses both styles.\n",
    "\n",
    "Developers commonly use bind mounts for testing, or for mounting environment-specific files, such as property files. Because Podman manages the volume file system, use volumes to ensure consistent mount behavior across systems. Additionally, use volumes for advanced uses, such as mounting a remote volume over NFS.\n",
    "Storing Data with Bind Mounts\n",
    "\n",
    "Bind mounts can exist anywhere on the host system.\n",
    "\n",
    "For example, to mount the /www directory on your host machine to the /var/www/html directory inside the container with the read-only option, use the following podman run command:\n",
    "\n",
    "[user@host ~]$ podman run -p 8080:8080 --volume  /www:/var/www/html:ro \\\n",
    "  registry.access.redhat.com/ubi8/httpd-24:latest\n",
    "\n",
    "Troubleshoot Bind Mounts\n",
    "\n",
    "When you use bind mounts, you must configure file permissions and SELinux access manually. SELinux is an additional security mechanism used by Red Hat Enterprise Linux (RHEL) and other Linux distributions.\n",
    "\n",
    "Consider the following bind mount example:\n",
    "\n",
    "[user@host ~]$ podman run -p 8080:8080 --volume /www:/var/www/html \\\n",
    "  registry.access.redhat.com/ubi8/httpd-24:latest\n",
    "\n",
    "By default, the Httpd process has insufficient permissions to access the /var/www/html directory. This can be a file permission issue or an SELinux issue.\n",
    "\n",
    "To troubleshoot file permission issues, use the podman unshare command to execute the ls -l command. The podman unshare command executes provided Linux commands in a new namespace such as the one Podman creates for the container. This process maps user IDs as they are mapped in a new container, which is useful for troubleshooting user permissions.\n",
    "\n",
    "[user@host ~]$ podman unshare ls -l /www/\n",
    "total 4\n",
    "-rw-rw-r--. 1 root root 21 Jul 12 15:21 index.html\n",
    "[user@host ~]$ podman unshare ls -ld /www/\n",
    "drwxrwxr-x. 1 root root 20 Jul 12 15:21 /www/\n",
    "\n",
    "The previous example reveals that the /www/index.html directory is accessible to all users:\n",
    "\n",
    "    The /www/index.html file provides read permissions to all users.\n",
    "\n",
    "    The /www directory is viewed as owned by the root user and the root group in a new namespace.\n",
    "\n",
    "    The /www directory provides the execute permissions to all users, which gives all users access to the directory contents.\n",
    "\n",
    "This means that the file and directory permissions are correct in the bind mount.\n",
    "\n",
    "To troubleshoot SELinux permission issues, inspect the /www directory SELinux configuration by running the ls command with the -Z option. Use the -d option to print only the directory information.\n",
    "\n",
    "[user@host ~]$ ls -Zd /www\n",
    "system_u:object_r:default_t:s0:c228,c359 /www\n",
    "\n",
    "The output shows the SELinux context label system_u:object_r:default_t:s0:c228,c359, which has the default_t type. A container must have the container_file_t SELinux type to have access to the bind mount. SELinux is out of scope for this course.\n",
    "\n",
    "To fix the SELinux configuration, add the :z or :Z option to the bind mount:\n",
    "\n",
    "    Lower case z lets different containers share access to a bind mount.\n",
    "\n",
    "    Upper case Z provides the container with exclusive access to the bind mount.\n",
    "\n",
    "[user@host ~]$ podman run -p 8080:8080 --volume /www:/var/www/html:Z \\\n",
    "  registry.access.redhat.com/ubi8/httpd-24:latest\n",
    "\n",
    "After adding the corresponding option, run the ls -Zd command and notice the right SELinux type.\n",
    "\n",
    "[user@host ~]$ ls -Zd /www\n",
    "system_u:object_r:container_file_t:s0:c240,c717 /www\n",
    "\n",
    "The container_file_t SELinux type allows the container to access the bind mount files.\n",
    "Important\n",
    "\n",
    "Changing the SELinux label for system directories might lead to unexpected issues.\n",
    "Storing Data with Volumes\n",
    "\n",
    "Volumes let Podman manage the data mounts. You can manage volumes by using the podman volume command.\n",
    "\n",
    "To create a volume called http-data, use the following command:\n",
    "\n",
    "[user@host ~]$ podman volume create http-data\n",
    "d721d941960a2552459637da86c3074bbba12600079f5d58e62a11caf6a591b5\n",
    "\n",
    "You can inspect the volume by using the podman volume inspect command:\n",
    "\n",
    "[user@host ~]$ podman volume inspect http-data\n",
    "[\n",
    "    {\n",
    "        \"Name\": \"http-data\",\n",
    "        \"Driver\": \"local\",\n",
    "        \"Mountpoint\": \"/home/user/.local/share/containers/storage/volumes/http-data/_data\",\n",
    "        \"CreatedAt\": \"2022-07-12T17:10:12.709259987+02:00\",\n",
    "        \"Labels\": {},\n",
    "        \"Scope\": \"local\",\n",
    "        \"Options\": {}\n",
    "    }\n",
    "\n",
    "\n",
    "\n",
    "Volumes are data mounts managed by Podman. Bind mounts are data mounts managed by the user.\n",
    "\n",
    "Both volumes and bind mounts can use the --volume (or -v) parameter.\n",
    "\n",
    "--volume /path/on/host:/path/in/container:OPTIONS\n",
    "\n",
    "In the preceding syntax, the :OPTIONS part is optional. Note that you can specify host paths by using absolute paths, such as /home/user/www, or relative paths, such as ./www, which refers to the www directory in the current working directory.\n",
    "\n",
    "Use -v volume_name:/path/in/container to refer to a volume.\n",
    "\n",
    "Alternatively, you can use the --mount parameter with the following syntax:\n",
    "\n",
    "--mount type=TYPE,source=/path/on/host,destination=/path/in/container\n",
    "\n",
    "The --mount parameter explicitly specifies the volume type, such as:\n",
    "\n",
    "    bind for bind mounts.\n",
    "\n",
    "    volume for volume mounts.\n",
    "\n",
    "    tmpfs for creating memory-only, ephemeral mounts.\n",
    "\n",
    "The --mount parameter is the preferred way of mounting directories in a container. However, because the -v parameter is still widely used, this course uses both styles.\n",
    "\n",
    "Developers commonly use bind mounts for testing, or for mounting environment-specific files, such as property files. Because Podman manages the volume file system, use volumes to ensure consistent mount behavior across systems. Additionally, use volumes for advanced uses, such as mounting a remote volume over NFS.\n",
    "Storing Data with Bind Mounts\n",
    "\n",
    "Bind mounts can exist anywhere on the host system.\n",
    "\n",
    "For example, to mount the /www directory on your host machine to the /var/www/html directory inside the container with the read-only option, use the following podman run command:\n",
    "\n",
    "[user@host ~]$ podman run -p 8080:8080 --volume  /www:/var/www/html:ro \\\n",
    "  registry.access.redhat.com/ubi8/httpd-24:latest\n",
    "\n",
    "Troubleshoot Bind Mounts\n",
    "\n",
    "When you use bind mounts, you must configure file permissions and SELinux access manually. SELinux is an additional security mechanism used by Red Hat Enterprise Linux (RHEL) and other Linux distributions.\n",
    "\n",
    "Consider the following bind mount example:\n",
    "\n",
    "[user@host ~]$ podman run -p 8080:8080 --volume /www:/var/www/html \\\n",
    "  registry.access.redhat.com/ubi8/httpd-24:latest\n",
    "\n",
    "By default, the Httpd process has insufficient permissions to access the /var/www/html directory. This can be a file permission issue or an SELinux issue.\n",
    "\n",
    "To troubleshoot file permission issues, use the podman unshare command to execute the ls -l command. The podman unshare command executes provided Linux commands in a new namespace such as the one Podman creates for the container. This process maps user IDs as they are mapped in a new container, which is useful for troubleshooting user permissions.\n",
    "\n",
    "[user@host ~]$ podman unshare ls -l /www/\n",
    "total 4\n",
    "-rw-rw-r--. 1 root root 21 Jul 12 15:21 index.html\n",
    "[user@host ~]$ podman unshare ls -ld /www/\n",
    "drwxrwxr-x. 1 root root 20 Jul 12 15:21 /www/\n",
    "\n",
    "The previous example reveals that the /www/index.html directory is accessible to all users:\n",
    "\n",
    "    The /www/index.html file provides read permissions to all users.\n",
    "\n",
    "    The /www directory is viewed as owned by the root user and the root group in a new namespace.\n",
    "\n",
    "    The /www directory provides the execute permissions to all users, which gives all users access to the directory contents.\n",
    "\n",
    "This means that the file and directory permissions are correct in the bind mount.\n",
    "\n",
    "To troubleshoot SELinux permission issues, inspect the /www directory SELinux configuration by running the ls command with the -Z option. Use the -d option to print only the directory information.\n",
    "\n",
    "[user@host ~]$ ls -Zd /www\n",
    "system_u:object_r:default_t:s0:c228,c359 /www\n",
    "\n",
    "The output shows the SELinux context label system_u:object_r:default_t:s0:c228,c359, which has the default_t type. A container must have the container_file_t SELinux type to have access to the bind mount. SELinux is out of scope for this course.\n",
    "\n",
    "To fix the SELinux configuration, add the :z or :Z option to the bind mount:\n",
    "\n",
    "    Lower case z lets different containers share access to a bind mount.\n",
    "\n",
    "    Upper case Z provides the container with exclusive access to the bind mount.\n",
    "\n",
    "[user@host ~]$ podman run -p 8080:8080 --volume /www:/var/www/html:Z \\\n",
    "  registry.access.redhat.com/ubi8/httpd-24:latest\n",
    "\n",
    "After adding the corresponding option, run the ls -Zd command and notice the right SELinux type.\n",
    "\n",
    "[user@host ~]$ ls -Zd /www\n",
    "system_u:object_r:container_file_t:s0:c240,c717 /www\n",
    "\n",
    "The container_file_t SELinux type allows the container to access the bind mount files.\n",
    "Important\n",
    "\n",
    "Changing the SELinux label for system directories might lead to unexpected issues.\n",
    "\n",
    "\n",
    "\n",
    "Storing Data with Volumes\n",
    "\n",
    "Volumes let Podman manage the data mounts. You can manage volumes by using the podman volume command.\n",
    "\n",
    "To create a volume called http-data, use the following command:\n",
    "\n",
    "[user@host ~]$ podman volume create http-data\n",
    "d721d941960a2552459637da86c3074bbba12600079f5d58e62a11caf6a591b5\n",
    "\n",
    "You can inspect the volume by using the podman volume inspect command:\n",
    "\n",
    "[user@host ~]$ podman volume inspect http-data\n",
    "[\n",
    "    {\n",
    "        \"Name\": \"http-data\",\n",
    "        \"Driver\": \"local\",\n",
    "        \"Mountpoint\": \"/home/user/.local/share/containers/storage/volumes/http-data/_data\",\n",
    "        \"CreatedAt\": \"2022-07-12T17:10:12.709259987+02:00\",\n",
    "        \"Labels\": {},\n",
    "        \"Scope\": \"local\",\n",
    "        \"Options\": {}\n",
    "    }\n",
    "]\n",
    "\n",
    "For rootless containers, Podman stores local volume data in the $HOME/.local/share/containers/storage/volumes/ directory.\n",
    "\n",
    "To mount the volume into a container, refer to the volume by the volume name:\n",
    "\n",
    "[user@host ~]$ podman run -p 8080:8080 --volume  http-data:/var/www/html \\\n",
    "  registry.access.redhat.com/ubi8/httpd-24:latest\n",
    "\n",
    "Because Podman manages the volume, you do not need to configure SELinux permissions.\n",
    "Exporting and Importing Data with Volumes\n",
    "\n",
    "You can import data from a tar archive into an existing Podman volume by using the podman volume import VOLUME_NAME ARCHIVE_NAME command.\n",
    "\n",
    "[user@host ~]$ podman volume import http_data web_data.tar.gz\n",
    "...no output expected...\n",
    "\n",
    "You can also export data from an existing Podman volume and save it as a tar archive on the local machine by using the podman volume export VOLUME NAME --output ARCHIVE_NAME command.\n",
    "\n",
    "[user@host ~]$ podman volume export http_data --output web_data.tar.gz\n",
    "...no output expected...\n",
    "\n",
    "Storing Data with a tmpfs Mount\n",
    "\n",
    "Some applications cannot use the default COW file system in a specific directory for performance reasons, but do not use persistence or data sharing for that directory.\n",
    "\n",
    "For such cases, you can use the tmpfs mount type, which means that the data in a mount is ephemeral but does not use the COW file system:\n",
    "\n",
    "[user@host ~]$ podman run -e POSTGRESQL_ADMIN_PASSWORD=redhat --network lab-net \\\n",
    "  --mount  type=tmpfs,tmpfs-size=512M,destination=/var/lib/pgsql/data \\\n",
    "  registry.redhat.io/rhel9/postgresql-13:1\n",
    "]\n",
    "\n",
    "For rootless containers, Podman stores local volume data in the $HOME/.local/share/containers/storage/volumes/ directory.\n",
    "\n",
    "To mount the volume into a container, refer to the volume by the volume name:\n",
    "\n",
    "[user@host ~]$ podman run -p 8080:8080 --volume  http-data:/var/www/html \\\n",
    "  registry.access.redhat.com/ubi8/httpd-24:latest\n",
    "\n",
    "Because Podman manages the volume, you do not need to configure SELinux permissions.\n",
    "Exporting and Importing Data with Volumes\n",
    "\n",
    "You can import data from a tar archive into an existing Podman volume by using the podman volume import VOLUME_NAME ARCHIVE_NAME command.\n",
    "\n",
    "[user@host ~]$ podman volume import http_data web_data.tar.gz\n",
    "...no output expected...\n",
    "\n",
    "You can also export data from an existing Podman volume and save it as a tar archive on the local machine by using the podman volume export VOLUME NAME --output ARCHIVE_NAME command.\n",
    "\n",
    "[user@host ~]$ podman volume export http_data --output web_data.tar.gz\n",
    "...no output expected...\n",
    "\n",
    "Storing Data with a tmpfs Mount\n",
    "\n",
    "Some applications cannot use the default COW file system in a specific directory for performance reasons, but do not use persistence or data sharing for that directory.\n",
    "\n",
    "For such cases, you can use the tmpfs mount type, which means that the data in a mount is ephemeral but does not use the COW file system:\n",
    "\n",
    "[user@host ~]$ podman run -e POSTGRESQL_ADMIN_PASSWORD=redhat --network lab-net \\\n",
    "  --mount  type=tmpfs,tmpfs-size=512M,destination=/var/lib/pgsql/data \\\n",
    "  registry.redhat.io/rhel9/postgresql-13:1"
   ]
  }
 ],
 "metadata": {
  "kernelspec": {
   "display_name": "Python 3",
   "language": "python",
   "name": "python3"
  },
  "language_info": {
   "codemirror_mode": {
    "name": "ipython",
    "version": 3
   },
   "file_extension": ".py",
   "mimetype": "text/x-python",
   "name": "python",
   "nbconvert_exporter": "python",
   "pygments_lexer": "ipython3",
   "version": "3.12.0"
  }
 },
 "nbformat": 4,
 "nbformat_minor": 4
}

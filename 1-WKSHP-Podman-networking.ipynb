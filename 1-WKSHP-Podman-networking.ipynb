{
 "cells": [
  {
   "cell_type": "markdown",
   "metadata": {},
   "source": [
    "![Podmanlogo](Pictures/podman-logo.png)"
   ]
  },
  {
   "cell_type": "markdown",
   "metadata": {},
   "source": [
    "# Podman Networking\n",
    "\n",
    "Podman uses the default network \"podman\" for all containers unless specified differently. If no other network is set all containers will be able to communicate with each other throught this network.\n",
    "\n",
    "Nonetheless, there are scenarios in which you may want to create a separate netwokr for a set of containers. For example, if you have a three tier application with a frontend, backend and database. In this scenario you want the frontend to communicate with the backend but not with your database container directly as it will be using the backend for that. To achieve that you can create a \"front\" and a \"back\" network, then attach the frontend and the backend container to the \"front\" network, then attach the backend and the database containers to the \"back\" network. With this setup the backend container will be able to communicate with the frontend and the database as it's attached to both networks, but the fronend and database containers wont see each other. This is represented in the following picture:\n",
    "\n",
    "![Multiplenetworks](Pictures/multiple-networks.png)\n",
    "\n",
    "# Managing Podman Networks\n",
    "\n",
    "Lets see Podman networks in practice:"
   ]
  },
  {
   "cell_type": "code",
   "execution_count": null,
   "metadata": {
    "vscode": {
     "languageId": "shellscript"
    }
   },
   "outputs": [],
   "source": [
    "!podman network create example-1"
   ]
  },
  {
   "cell_type": "markdown",
   "metadata": {},
   "source": [
    "With the previous command we have created a Podman network called \"example-1\", the command has options to configure it (gatewayaddres, subnet mask, IPv4 or IPv6, etc). We can now use the following command to list all the networks we have:"
   ]
  },
  {
   "cell_type": "code",
   "execution_count": null,
   "metadata": {
    "vscode": {
     "languageId": "shellscript"
    }
   },
   "outputs": [],
   "source": [
    "!podman network ls"
   ]
  },
  {
   "cell_type": "markdown",
   "metadata": {},
   "source": [
    "As you can see we have our newly created \"example-1\" network and the default \"podman\" network available. We can remove our recently created network by running:"
   ]
  },
  {
   "cell_type": "code",
   "execution_count": null,
   "metadata": {
    "vscode": {
     "languageId": "shellscript"
    }
   },
   "outputs": [],
   "source": [
    "!podman network rm example-1"
   ]
  },
  {
   "cell_type": "markdown",
   "metadata": {},
   "source": [
    "Check if it was deleted:"
   ]
  },
  {
   "cell_type": "code",
   "execution_count": null,
   "metadata": {
    "vscode": {
     "languageId": "shellscript"
    }
   },
   "outputs": [],
   "source": [
    "!podman network ls"
   ]
  },
  {
   "cell_type": "markdown",
   "metadata": {},
   "source": [
    "You can also run the following command to remove all the unused networks at once:"
   ]
  },
  {
   "cell_type": "code",
   "execution_count": null,
   "metadata": {
    "vscode": {
     "languageId": "shellscript"
    }
   },
   "outputs": [],
   "source": [
    "!podman network prune -f"
   ]
  },
  {
   "cell_type": "markdown",
   "metadata": {},
   "source": [
    "# Network Modes and DNS resolution\n",
    "\n",
    "Remember that Podman will attach a container to the default network when the network is not specified in the podman run command. This is important because the default network uses slirp4netns network mode while the ones you create manually will use the bridge network mode. If certain container is using slirp4netns network mode Podman wont be able to connect it to a bridged network, the command will fail.\n",
    "\n",
    "Moreover, the default Podman network has the domain name system (DNS) resolution for other containers disabled. If you want to use DNS resolution between your containers create a dedicated network. When DNS is enabled the hostname for a container is the same as the container name.\n",
    "\n",
    "> **Note**: There are other components, like firewall rules, that could be preventing the connection between containers in the same network.\n",
    "\n",
    "# Using multiple networks in a microservices application (WORK IN PROGRESS)\n",
    "\n",
    "Create an app with 3 containers. One of them is connected to two networks while the others are only connected to one of them. Show how you can directly connect a container to a newtork when you create it, something like:\n",
    "\n",
    "podman run -d --name my-container \\\n",
    "--net example-net container-image:latest\n",
    "\n",
    "Also show how you can use the command podman network connect for connecting a container to a network that it was not connected to, something like:\n",
    "\n",
    "podman network connect example-network my-container"
   ]
  }
 ],
 "metadata": {
  "kernelspec": {
   "display_name": "Python 3",
   "language": "python",
   "name": "python3"
  },
  "language_info": {
   "codemirror_mode": {
    "name": "ipython",
    "version": 3
   },
   "file_extension": ".py",
   "mimetype": "text/x-python",
   "name": "python",
   "nbconvert_exporter": "python",
   "pygments_lexer": "ipython3",
   "version": "3.12.0"
  }
 },
 "nbformat": 4,
 "nbformat_minor": 4
}

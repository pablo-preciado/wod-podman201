{
 "cells": [
  {
   "cell_type": "markdown",
   "metadata": {},
   "source": [
    "![Podmanlogo](Pictures/podman-logo.png)"
   ]
  },
  {
   "cell_type": "markdown",
   "metadata": {},
   "source": [
    "# Podman Networking\n",
    "\n",
    "Podman uses the default network \"podman\" for all containers unless specified differently. If no other network is set all containers will be able to communicate with each other throught this network.\n",
    "\n",
    "Nonetheless, there are scenarios in which you may want to create a separate netwokr for a set of containers. For example, if you have a three tier application with a frontend, backend and database. In this scenario you want the frontend to communicate with the backend but not with your database container directly as it will be using the backend for that. To achieve that you can create a \"front\" and a \"back\" network, then attach the frontend and the backend container to the \"front\" network, then attach the backend and the database containers to the \"back\" network. With this setup the backend container will be able to communicate with the frontend and the database as it's attached to both networks, but the fronend and database containers wont see each other. This is represented in the following picture:\n",
    "\n",
    "![Multiplenetworks](Pictures/multiple-networks.png)\n",
    "\n",
    "Lets see Podman networks in practice:"
   ]
  },
  {
   "cell_type": "code",
   "execution_count": null,
   "metadata": {
    "vscode": {
     "languageId": "shellscript"
    }
   },
   "outputs": [],
   "source": [
    "!podman network create example-1"
   ]
  },
  {
   "cell_type": "markdown",
   "metadata": {},
   "source": [
    "With the previous command we have created a Podman network called \"example-1\", the command has options to configure it (gatewayaddres, subnet mask, IPv4 or IPv6, etc). We can now use the following command to list all the networks we have:"
   ]
  },
  {
   "cell_type": "code",
   "execution_count": null,
   "metadata": {
    "vscode": {
     "languageId": "shellscript"
    }
   },
   "outputs": [],
   "source": [
    "!podman network ls"
   ]
  },
  {
   "cell_type": "markdown",
   "metadata": {},
   "source": [
    "As you can see we have our newly created \"example-1\" network and the default \"podman\" network available. We can remove our recently created network by running:"
   ]
  },
  {
   "cell_type": "code",
   "execution_count": null,
   "metadata": {
    "vscode": {
     "languageId": "shellscript"
    }
   },
   "outputs": [],
   "source": [
    "!podman network rm example-1"
   ]
  },
  {
   "cell_type": "markdown",
   "metadata": {},
   "source": [
    "Check if it was deleted:"
   ]
  },
  {
   "cell_type": "code",
   "execution_count": null,
   "metadata": {
    "vscode": {
     "languageId": "shellscript"
    }
   },
   "outputs": [],
   "source": [
    "!podman network ls"
   ]
  },
  {
   "cell_type": "markdown",
   "metadata": {},
   "source": [
    "You can also run the following command to remove all the unused networks at once:"
   ]
  },
  {
   "cell_type": "code",
   "execution_count": null,
   "metadata": {
    "vscode": {
     "languageId": "shellscript"
    }
   },
   "outputs": [],
   "source": [
    "!podman network prune -f"
   ]
  },
  {
   "cell_type": "markdown",
   "metadata": {},
   "source": [
    "Remember that Podman will attach a container to the default network when the network is not specified in the podman run command. This is important because the default network uses slirp4netns network mode while the ones you create manually will use the bridge network mode. If certain container is using slirp4netns network mode Podman wont be able to connect it to a bridged network and the command will fail.\n",
    "\n",
    "Moreover, the default Podman network has the domain name system (DNS) resolution for other containers disabled. If you want to use DNS resolution between your containers create a dedicated network. When DNS is enabled the hostname for a container is the same as the container name.\n",
    "\n",
    "> **Note**: There are other components, like firewall rules, that could be preventing the connection between containers in the same network.\n",
    "\n",
    "Let's see a simple example of Podman networking in action. We are going to create two containers that will represent the frontend and backend containers of a simple application. First we will create both of them in separate networks and we will see how they're not able to connect.\n",
    "\n",
    "Create the two podman networks:"
   ]
  },
  {
   "cell_type": "code",
   "execution_count": null,
   "metadata": {
    "vscode": {
     "languageId": "shellscript"
    }
   },
   "outputs": [],
   "source": [
    "!podman network create frontend-network\n",
    "!podman network create backend-network"
   ]
  },
  {
   "cell_type": "markdown",
   "metadata": {},
   "source": [
    "Check all of them exist:"
   ]
  },
  {
   "cell_type": "code",
   "execution_count": null,
   "metadata": {
    "vscode": {
     "languageId": "shellscript"
    }
   },
   "outputs": [],
   "source": [
    "!podman network ls"
   ]
  },
  {
   "cell_type": "markdown",
   "metadata": {},
   "source": [
    "Next create the frontend container, backend and database container. We will be using nginx containers because it makes it easier to test connectivity by running a single curl command, in a real world scenario the containers would be different."
   ]
  },
  {
   "cell_type": "code",
   "execution_count": null,
   "metadata": {
    "vscode": {
     "languageId": "shellscript"
    }
   },
   "outputs": [],
   "source": [
    "!podman run -d --rm \\\n",
    "  --network frontend-network \\\n",
    "  --name frontend-container \\\n",
    "  docker.io/library/nginx:latest\n",
    "!podman run -d --rm \\\n",
    "  --network backend-network \\\n",
    "  --name backend-container \\\n",
    "  docker.io/library/nginx:latest"
   ]
  },
  {
   "cell_type": "markdown",
   "metadata": {},
   "source": [
    "Check the connection between containers by executing curl and trying to reach the other containers using their DNS names which is the same as their container name.\n",
    "Try to reach the backend container from the frontend container:"
   ]
  },
  {
   "cell_type": "code",
   "execution_count": null,
   "metadata": {
    "vscode": {
     "languageId": "shellscript"
    }
   },
   "outputs": [],
   "source": [
    "!podman exec frontend-container curl -s backend-container"
   ]
  },
  {
   "cell_type": "markdown",
   "metadata": {},
   "source": [
    "No output, just as expected because they are sitting in different networks. We should get the same output if we try to reach the frontend from the backend container."
   ]
  },
  {
   "cell_type": "code",
   "execution_count": null,
   "metadata": {
    "vscode": {
     "languageId": "shellscript"
    }
   },
   "outputs": [],
   "source": [
    "!podman exec backend-container curl -s frontend-container"
   ]
  },
  {
   "cell_type": "markdown",
   "metadata": {},
   "source": [
    "Again, we got nothing as expected. If we want them to be able to reach each other they need to be in the same network. The same container can sit in several networks at the same time so we will use the following command to connect the backend container to the frontend network:"
   ]
  },
  {
   "cell_type": "code",
   "execution_count": null,
   "metadata": {
    "vscode": {
     "languageId": "shellscript"
    }
   },
   "outputs": [],
   "source": [
    "!podman network connect frontend-network backend-container"
   ]
  },
  {
   "cell_type": "markdown",
   "metadata": {},
   "source": [
    "Now it's connected to the frontend network, so the frontend should be able to reach the backend."
   ]
  },
  {
   "cell_type": "code",
   "execution_count": null,
   "metadata": {
    "vscode": {
     "languageId": "shellscript"
    }
   },
   "outputs": [],
   "source": [
    "!podman exec frontend-container curl -s backend-container"
   ]
  },
  {
   "cell_type": "markdown",
   "metadata": {},
   "source": [
    "It was able to communicate as expected. And the backend should be able to reach the frontend as well:"
   ]
  },
  {
   "cell_type": "code",
   "execution_count": null,
   "metadata": {
    "vscode": {
     "languageId": "shellscript"
    }
   },
   "outputs": [],
   "source": [
    "!podman exec backend-container curl -s frontend-container"
   ]
  },
  {
   "cell_type": "markdown",
   "metadata": {},
   "source": [
    "With this simple exercise we have demonstrated how simple it is to manage multiple networks and DNS resolution in a Podman environment."
   ]
  }
 ],
 "metadata": {
  "kernelspec": {
   "display_name": "Python 3",
   "language": "python",
   "name": "python3"
  },
  "language_info": {
   "codemirror_mode": {
    "name": "ipython",
    "version": 3
   },
   "file_extension": ".py",
   "mimetype": "text/x-python",
   "name": "python",
   "nbconvert_exporter": "python",
   "pygments_lexer": "ipython3",
   "version": "3.12.1"
  }
 },
 "nbformat": 4,
 "nbformat_minor": 4
}

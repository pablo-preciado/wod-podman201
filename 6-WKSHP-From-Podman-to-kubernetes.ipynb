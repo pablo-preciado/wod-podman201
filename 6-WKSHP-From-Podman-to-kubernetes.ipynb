{
 "cells": [
  {
   "cell_type": "markdown",
   "metadata": {},
   "source": [
    "![Podmanlogo](Pictures/podman-logo.png)"
   ]
  },
  {
   "cell_type": "markdown",
   "metadata": {},
   "source": [
    "# From Podman to Kubernetes and viceversa\n",
    "\n",
    "When working with kubernetes what most users want is a way of easily deploying in kubernetes what they have already tested in Podman. This can be done easily as Podman helps generating a yaml file that can be used afterwards in kubernetes. We demonstrated this on the Podman 101 workshop, but we are going to do it again and then we'll deploy it to an actual kubernetes cluster (in our case we chose OpenShift distribution).\n",
    "\n",
    "Lets begin by creating a pod as we did before:"
   ]
  },
  {
   "cell_type": "code",
   "execution_count": null,
   "metadata": {
    "vscode": {
     "languageId": "shellscript"
    }
   },
   "outputs": [],
   "source": [
    "podman pod create --name my-k8s-workload"
   ]
  },
  {
   "cell_type": "markdown",
   "metadata": {},
   "source": [
    "We'll rung a Wordpress workload in the pod:"
   ]
  },
  {
   "cell_type": "code",
   "execution_count": null,
   "metadata": {
    "vscode": {
     "languageId": "shellscript"
    }
   },
   "outputs": [],
   "source": [
    "podman run -d --pod my-k8s-workload \\\n",
    "  -e MYSQL_ROOT_PASSWORD=\"hpedev\" \\\n",
    "  -e MYSQL_DATABASE=\"wp\" \\\n",
    "  -e MYSQL_USER=\"wordpress\" \\\n",
    "  -e MYSQL_PASSWORD=\"wordpress\" \\\n",
    "  --name=wp-db \\\n",
    "  docker.io/library/mariadb:latest\n",
    "\n",
    "podman run -d  --pod my-k8s-workload \\\n",
    "  -e WORDPRESS_DB_NAME=\"wp\" \\\n",
    "  -e WORDPRESS_DB_USER=\"wordpress\" \\\n",
    "  -e WORDPRESS_DB_PASSWORD=\"wordpress\" \\\n",
    "  -e WORDPRESS_DB_HOST=\"127.0.0.1\" \\\n",
    "  --name wp-web \\\n",
    "  docker.io/library/wordpress:latest"
   ]
  },
  {
   "cell_type": "markdown",
   "metadata": {},
   "source": [
    "Check everything is working as expected:"
   ]
  },
  {
   "cell_type": "code",
   "execution_count": null,
   "metadata": {
    "vscode": {
     "languageId": "shellscript"
    }
   },
   "outputs": [],
   "source": [
    "podman ps -a --pod"
   ]
  },
  {
   "cell_type": "markdown",
   "metadata": {},
   "source": [
    "Now generate the kubernetes yaml file by using \"podman generate kube\" command:"
   ]
  },
  {
   "cell_type": "code",
   "execution_count": null,
   "metadata": {
    "vscode": {
     "languageId": "shellscript"
    }
   },
   "outputs": [],
   "source": [
    "podman generate kube --replicas 2 --service --type deployment my-k8s-workload >> my-k8s-workload.yml"
   ]
  },
  {
   "cell_type": "markdown",
   "metadata": {},
   "source": [
    "In previous command we have defined we want 2 replicas, we want the yaml file to include a service and to use a deployment object for deploying the workload. These concepts are not present in Podman but you can use them to specify the details of the file that Podman will generate and you'll use later in kubernetes. Take advantage of this flexibility!\n",
    "\n",
    "Review the file we just generated:"
   ]
  },
  {
   "cell_type": "code",
   "execution_count": null,
   "metadata": {
    "vscode": {
     "languageId": "shellscript"
    }
   },
   "outputs": [],
   "source": [
    "cat my-k8s-workload.yml"
   ]
  },
  {
   "cell_type": "markdown",
   "metadata": {},
   "source": [
    "~~~\n",
    "SECTION DEPLOYING THE WORKLOAD TO KUBERNETES, TO BE WRITTEN ONCE THE OPENSHIFT CLUSTER IS UP AND RUNNING\n",
    "~~~"
   ]
  },
  {
   "cell_type": "markdown",
   "metadata": {},
   "source": [
    "We've seen how you can use Podman to generate the files that you'll use later to deploy your workloads in kubernetes. But most probably you're thinking that kubernetes yaml files are super cool and you'd like to use them also for Podman workloads. No worries, Podman got your back.\n",
    "\n",
    "Before moving on stop all of the running pods:"
   ]
  },
  {
   "cell_type": "code",
   "execution_count": null,
   "metadata": {
    "vscode": {
     "languageId": "shellscript"
    }
   },
   "outputs": [],
   "source": [
    "podman pod rm --all -f"
   ]
  },
  {
   "cell_type": "markdown",
   "metadata": {},
   "source": [
    "Now, if you wanted to run you pod in Podman using the kubernetes yaml file you just need to run the following command pointing to your yaml file:"
   ]
  },
  {
   "cell_type": "code",
   "execution_count": null,
   "metadata": {
    "vscode": {
     "languageId": "shellscript"
    }
   },
   "outputs": [],
   "source": [
    "podman kube play my-k8s-workload.yml"
   ]
  },
  {
   "cell_type": "markdown",
   "metadata": {},
   "source": [
    "You see it pops up a message explaining that it has reduced the amount of replicas to 1, that's because Podman is not dessigned to scale with multiple replicas. Check all of your containers have been created:"
   ]
  },
  {
   "cell_type": "code",
   "execution_count": null,
   "metadata": {
    "vscode": {
     "languageId": "shellscript"
    }
   },
   "outputs": [],
   "source": [
    "podman ps -a --pod"
   ]
  },
  {
   "cell_type": "markdown",
   "metadata": {},
   "source": [
    "That's cool, but there is even more. Remember the Quadlet files we used so systemd would work with our containers as if it was any other process? You can just pass the yaml file to the Quadlet so you don't need to manage different files with the definition of your workload.\n",
    "\n",
    "You need to create a Quadlet file, but this time its name ends in \".kube\" and it'll have the default \"Install\" section and a new one called \"Kube\". In this \"Kube\" section we will point to our yaml file and that's all we need to do for this example."
   ]
  },
  {
   "cell_type": "code",
   "execution_count": null,
   "metadata": {
    "vscode": {
     "languageId": "shellscript"
    }
   },
   "outputs": [],
   "source": [
    "cat << EOF > my-quadlet-yaml.kube\n",
    "[Install]\n",
    "WantedBy=default.target\n",
    "\n",
    "[Kube]\n",
    "# Point to the yaml file in the same directory\n",
    "Yaml=my-k8s-workload.yml\n",
    "EOF"
   ]
  },
  {
   "cell_type": "markdown",
   "metadata": {},
   "source": [
    "Once you have created the file move it to \"~/.config/containers/systemd/\", you'll also need to move your yaml file as we used a relative path in the Quadlet definition."
   ]
  },
  {
   "cell_type": "code",
   "execution_count": null,
   "metadata": {
    "vscode": {
     "languageId": "shellscript"
    }
   },
   "outputs": [],
   "source": [
    "mv ~/my-k8s-workload.yml ~/.config/containers/systemd/my-k8s-workload.yml\n",
    "mv ~/my-quadlet-yaml.kube ~/.config/containers/systemd/my-quadlet-yaml.kube"
   ]
  },
  {
   "cell_type": "markdown",
   "metadata": {},
   "source": [
    "Now that all the files are present in the correct directory you just need to reload the systemctl daemon:"
   ]
  },
  {
   "cell_type": "code",
   "execution_count": null,
   "metadata": {
    "vscode": {
     "languageId": "shellscript"
    }
   },
   "outputs": [],
   "source": [
    "systemctl --user daemon-reload"
   ]
  },
  {
   "cell_type": "markdown",
   "metadata": {},
   "source": [
    "Finally, use systemctl to manage your containerized workload as a systemd unit:"
   ]
  },
  {
   "cell_type": "code",
   "execution_count": null,
   "metadata": {
    "vscode": {
     "languageId": "shellscript"
    }
   },
   "outputs": [],
   "source": [
    "systemctl --user start my-quadlet-yaml.service"
   ]
  },
  {
   "cell_type": "markdown",
   "metadata": {},
   "source": [
    "It's also possible to check the status:"
   ]
  },
  {
   "cell_type": "code",
   "execution_count": null,
   "metadata": {
    "vscode": {
     "languageId": "shellscript"
    }
   },
   "outputs": [],
   "source": [
    "systemctl --user status my-quadlet-yaml.service --no-pager"
   ]
  },
  {
   "cell_type": "markdown",
   "metadata": {},
   "source": [
    "Containers or pods managed by Quadlets will automatically start on system boot as well, so that's a cool way of using kubernetes yaml files also in your Podman environment.\n",
    "\n",
    "# Clean up"
   ]
  },
  {
   "cell_type": "code",
   "execution_count": null,
   "metadata": {
    "vscode": {
     "languageId": "shellscript"
    }
   },
   "outputs": [],
   "source": [
    "podman rm --all -f\n",
    "podman pod rm --all -f\n",
    "podman image prune -f\n",
    "podman volume prune -f\n",
    "podman network prune -f\n",
    "rm -rf ~/.config/containers/systemd/*"
   ]
  }
 ],
 "metadata": {
  "kernelspec": {
   "display_name": "SSH",
   "language": "bash",
   "name": "ssh"
  },
  "language_info": {
   "codemirror_mode": "shell",
   "file_extension": ".sh",
   "mimetype": "text/x-sh",
   "name": "ssh"
  }
 },
 "nbformat": 4,
 "nbformat_minor": 4
}

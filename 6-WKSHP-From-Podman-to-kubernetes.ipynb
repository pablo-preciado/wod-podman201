{
 "cells": [
  {
   "cell_type": "markdown",
   "metadata": {},
   "source": [
    "![Podmanlogo](Pictures/podman-logo.png)"
   ]
  },
  {
   "cell_type": "markdown",
   "metadata": {},
   "source": [
    "# From Podman to Kubernetes and viceversa\n",
    "\n",
    "When working with kubernetes what most users want is a way of easily deploying in kubernetes what they have already tested in Podman. This can be done easily as Podman helps generating a yaml file that can be used afterwards in kubernetes. We demonstrated this on the Podman 101 workshop, but we are going to do it again with our Patient Portal application. Then we'll deploy it to an actual kubernetes cluster (in our case we chose OpenShift distribution).\n",
    "\n",
    "Lets begin by creating all the containers of our application. As alwasy, you need to start by creating the networks:"
   ]
  },
  {
   "cell_type": "code",
   "execution_count": null,
   "metadata": {
    "vscode": {
     "languageId": "shellscript"
    }
   },
   "outputs": [],
   "source": [
    "podman network create database\n",
    "podman network create payment"
   ]
  },
  {
   "cell_type": "markdown",
   "metadata": {},
   "source": [
    "Now we can spin up all of our three containers. We added a sleep in the command list to give enough time to the database to initialize before spining up the frontend container, otherwise the deployment of the app would fail."
   ]
  },
  {
   "cell_type": "code",
   "execution_count": null,
   "metadata": {
    "vscode": {
     "languageId": "shellscript"
    }
   },
   "outputs": [],
   "source": [
    "podman run -d --rm --name database --network database quay.io/skupper/patient-portal-database\n",
    "sleep 10\n",
    "podman run -d --rm --name payment-processor --network payment quay.io/skupper/patient-portal-payment-processor\n",
    "podman run -d --rm --name frontend --network payment,database -p 8080:8080 \\\n",
    "-e DATABASE_SERVICE_HOST=\"database\" \\\n",
    "-e DATABASE_SERVICE_PORT=\"5432\" \\\n",
    "-e PAYMENT_PROCESSOR_SERVICE_HOST=\"payment-processor\" \\\n",
    "-e PAYMENT_PROCESSOR_SERVICE_PORT=\"8080\" \\\n",
    "quay.io/skupper/patient-portal-frontend"
   ]
  },
  {
   "cell_type": "markdown",
   "metadata": {},
   "source": [
    "Note that we're not adding any volume, this is because we don't have a persistent storage provider for our OpenShift cluster, hence we generate containers with ephemeral storage. Nonetheless it's important to remark that this whole process can be replicated using volumes as well.\n",
    "\n",
    "Check everything is working as expected:"
   ]
  },
  {
   "cell_type": "code",
   "execution_count": null,
   "metadata": {
    "vscode": {
     "languageId": "shellscript"
    }
   },
   "outputs": [],
   "source": [
    "podman ps -a"
   ]
  },
  {
   "cell_type": "markdown",
   "metadata": {},
   "source": [
    "Check the logs:"
   ]
  },
  {
   "cell_type": "code",
   "execution_count": null,
   "metadata": {
    "vscode": {
     "languageId": "shellscript"
    }
   },
   "outputs": [],
   "source": [
    "podman logs frontend"
   ]
  },
  {
   "cell_type": "markdown",
   "metadata": {},
   "source": [
    "Run an http request:"
   ]
  },
  {
   "cell_type": "code",
   "execution_count": null,
   "metadata": {
    "vscode": {
     "languageId": "shellscript"
    }
   },
   "outputs": [],
   "source": [
    "curl -s localhost:8080"
   ]
  },
  {
   "cell_type": "markdown",
   "metadata": {},
   "source": [
    "Everything looks fine, it's time to create a yaml file to be used in kubernetes out of our running containers. For that we can simply use the \"podman generate kube\" command. Run it for the database container and review the output:"
   ]
  },
  {
   "cell_type": "code",
   "execution_count": null,
   "metadata": {
    "vscode": {
     "languageId": "shellscript"
    }
   },
   "outputs": [],
   "source": [
    "podman generate kube --replicas 1 --service --type deployment database > database.yml\n",
    "cat database.yml"
   ]
  },
  {
   "cell_type": "markdown",
   "metadata": {},
   "source": [
    "See that the yaml file contains two sections separated by \"---\", this is because we have two object definitions in the same file. The first one defines the Service object and the second one the Deployment. Podman is generating this specific objects in the file because we specified the option \"--service\" for adding a service to the output and \"--type deployment\" to specify we want to use a Deployment, otherwise it would have just defined a pod. Moreover you can define the number of replicas of your container you want to have.\n",
    "\n",
    "As we are pointing the command \"podman generate kube\" command to a single container it will consider that we want to create a pod with a single container in our kubernetes cluster. We could also point to a Podman pod and it would generate a deployment with multiple containers in a pod if that is what we had in the Podman pod.\n",
    "\n",
    "Continue with the payment-processor container:"
   ]
  },
  {
   "cell_type": "code",
   "execution_count": null,
   "metadata": {
    "vscode": {
     "languageId": "shellscript"
    }
   },
   "outputs": [],
   "source": [
    "podman generate kube --replicas 3 --service --type deployment payment-processor > payment-processor.yml\n",
    "cat payment-processor.yml"
   ]
  },
  {
   "cell_type": "markdown",
   "metadata": {},
   "source": [
    "See how we specified we want three replicas of this service and, in the yaml file, it's also defined under the \"spec.replicas\" part of the Deployment definition.\n",
    "\n",
    "And, last, for the frontend:"
   ]
  },
  {
   "cell_type": "code",
   "execution_count": null,
   "metadata": {
    "vscode": {
     "languageId": "shellscript"
    }
   },
   "outputs": [],
   "source": [
    "podman generate kube --replicas 1 --service --type deployment frontend > frontend.yml\n",
    "cat frontend.yml"
   ]
  },
  {
   "cell_type": "markdown",
   "metadata": {},
   "source": [
    "Now, lets deploy all these workloads to our kubernetes cluster."
   ]
  },
  {
   "cell_type": "markdown",
   "metadata": {},
   "source": [
    "~~~\n",
    "SECTION DEPLOYING THE WORKLOAD TO KUBERNETES, TO BE WRITTEN ONCE THE OPENSHIFT CLUSTER IS UP AND RUNNING\n",
    "~~~"
   ]
  },
  {
   "cell_type": "markdown",
   "metadata": {},
   "source": [
    "We've seen how you can use Podman to generate the files that you'll use later to deploy your workloads in kubernetes. And probably you're thinking that kubernetes yaml files are super cool and you'd like to use them also for Podman workloads. No worries, Podman got your back.\n",
    "\n",
    "Before moving on stop all of the running pods:"
   ]
  },
  {
   "cell_type": "code",
   "execution_count": null,
   "metadata": {
    "vscode": {
     "languageId": "shellscript"
    }
   },
   "outputs": [],
   "source": [
    "podman pod rm --all -f"
   ]
  },
  {
   "cell_type": "markdown",
   "metadata": {},
   "source": [
    "Now, if you wanted to run your pod in Podman using the kubernetes yaml file you just need to run the following command pointing to your yaml file:"
   ]
  },
  {
   "cell_type": "code",
   "execution_count": null,
   "metadata": {
    "vscode": {
     "languageId": "shellscript"
    }
   },
   "outputs": [],
   "source": [
    "podman kube play database.yml"
   ]
  },
  {
   "cell_type": "markdown",
   "metadata": {},
   "source": [
    "If you check the output, it generates a pod for with the container within it. This is because in kubernetes we always have a pod and Podman just follows what's in the yaml file."
   ]
  },
  {
   "cell_type": "code",
   "execution_count": null,
   "metadata": {
    "vscode": {
     "languageId": "shellscript"
    }
   },
   "outputs": [],
   "source": [
    "podman ps -a --pod"
   ]
  },
  {
   "cell_type": "markdown",
   "metadata": {},
   "source": [
    "Deploy the payment processor and the frontend using their kubernetes yaml files."
   ]
  },
  {
   "cell_type": "code",
   "execution_count": null,
   "metadata": {
    "vscode": {
     "languageId": "shellscript"
    }
   },
   "outputs": [],
   "source": [
    "podman kube play payment-processor.yml\n",
    "podman kube play frontend.yml"
   ]
  },
  {
   "cell_type": "markdown",
   "metadata": {},
   "source": [
    "First thing you notice is a warning. Podman's telling us that the amount of replicas for the payment-processor workload has been reduced to 1. This is because Podman is not designed for scalability and it's single node, therefore it doesn't make sense to have multiple replicas.\n",
    "\n",
    "Review all containers are up and running:"
   ]
  },
  {
   "cell_type": "code",
   "execution_count": null,
   "metadata": {
    "vscode": {
     "languageId": "shellscript"
    }
   },
   "outputs": [],
   "source": [
    "podman ps -a --pod"
   ]
  },
  {
   "cell_type": "markdown",
   "metadata": {},
   "source": [
    "We have now 6 containers, this is because we have 3 pods and Podman deploys a pod infrastructure management container in every pod.\n",
    "\n",
    "Review frontend logs (we need to use the automatically generated name for the container):"
   ]
  },
  {
   "cell_type": "code",
   "execution_count": null,
   "metadata": {
    "vscode": {
     "languageId": "shellscript"
    }
   },
   "outputs": [],
   "source": [
    "podman logs frontend-pod-deployment-pod-frontend"
   ]
  },
  {
   "cell_type": "markdown",
   "metadata": {},
   "source": [
    "Also check if the app receives http requests:"
   ]
  },
  {
   "cell_type": "code",
   "execution_count": null,
   "metadata": {
    "vscode": {
     "languageId": "shellscript"
    }
   },
   "outputs": [],
   "source": [
    "curl -s localhost:8080"
   ]
  },
  {
   "cell_type": "markdown",
   "metadata": {},
   "source": [
    "Everything is working perfectly and using yaml files!\n",
    "\n",
    "There is one last integration between Podman and kubernetes yaml files that I want to mention. Remember Quadlets? They are pretty similar to kubernetes yaml files, you define in the your container and systemd deploys them. But isn't it duplication of work to have both, a Quadlet and a kubernetes yaml file, for the same container? It is! And that is why you can have Quadlets directly pointing to kubernetes yaml files instead of having to define the whole container.\n",
    "\n",
    "Lets see how these Quadlets would look like. Start with the database one:"
   ]
  },
  {
   "cell_type": "code",
   "execution_count": null,
   "metadata": {
    "vscode": {
     "languageId": "shellscript"
    }
   },
   "outputs": [],
   "source": [
    "cat << EOF > database.kube\n",
    "[Install]\n",
    "WantedBy=default.target\n",
    "\n",
    "[Kube]\n",
    "# Point to the yaml file in the same directory\n",
    "Yaml=database.yml\n",
    "EOF\n",
    "cat database.kube"
   ]
  },
  {
   "cell_type": "markdown",
   "metadata": {},
   "source": [
    "As you can see we just define the target, as always, and the we point to our yaml file in the \"[Kube]\" section. As easy as it is!\n",
    "Rembember we are using a relative path to the yaml file.\n",
    "\n",
    "Do the same for the payment processor container:"
   ]
  },
  {
   "cell_type": "code",
   "execution_count": null,
   "metadata": {
    "vscode": {
     "languageId": "shellscript"
    }
   },
   "outputs": [],
   "source": [
    "cat << EOF > payment-processor.kube\n",
    "[Install]\n",
    "WantedBy=default.target\n",
    "\n",
    "[Unit]\n",
    "Requires=database.service\n",
    "After=database.service\n",
    "\n",
    "[Kube]\n",
    "# Point to the yaml file in the same directory\n",
    "Yaml=payment-processor.yml\n",
    "EOF"
   ]
  },
  {
   "cell_type": "markdown",
   "metadata": {},
   "source": [
    "We added the \"[Unit]\" section to guarantee everything is booted in the right order.\n",
    "\n",
    "And for the frontend container:"
   ]
  },
  {
   "cell_type": "code",
   "execution_count": null,
   "metadata": {
    "vscode": {
     "languageId": "shellscript"
    }
   },
   "outputs": [],
   "source": [
    "cat << EOF > frontend.kube\n",
    "[Install]\n",
    "WantedBy=default.target\n",
    "\n",
    "[Unit]\n",
    "Requires=payment-processor.service\n",
    "After=payment-processor.service\n",
    "\n",
    "[Kube]\n",
    "# Point to the yaml file in the same directory\n",
    "Yaml=frontend.yml\n",
    "EOF"
   ]
  },
  {
   "cell_type": "markdown",
   "metadata": {},
   "source": [
    "Move all the files to \"~/.config/containers/systemd/\". You need to move your yaml file as we used a relative path in the Quadlet definition."
   ]
  },
  {
   "cell_type": "code",
   "execution_count": null,
   "metadata": {
    "vscode": {
     "languageId": "shellscript"
    }
   },
   "outputs": [],
   "source": [
    "mv ~/* ~/.config/containers/systemd/"
   ]
  },
  {
   "cell_type": "markdown",
   "metadata": {},
   "source": [
    "Now that all the files are present in the correct directory you just need to reload the systemctl daemon:"
   ]
  },
  {
   "cell_type": "code",
   "execution_count": null,
   "metadata": {
    "vscode": {
     "languageId": "shellscript"
    }
   },
   "outputs": [],
   "source": [
    "systemctl --user daemon-reload"
   ]
  },
  {
   "cell_type": "markdown",
   "metadata": {},
   "source": [
    "Finally, use systemctl to manage your containerized workload as a systemd unit:"
   ]
  },
  {
   "cell_type": "code",
   "execution_count": null,
   "metadata": {
    "vscode": {
     "languageId": "shellscript"
    }
   },
   "outputs": [],
   "source": [
    "systemctl --user start database.service\n",
    "systemctl --user start payment-processor.service\n",
    "systemctl --user start frontend.service"
   ]
  },
  {
   "cell_type": "markdown",
   "metadata": {},
   "source": [
    "Review all of your containers and pods are up and running:"
   ]
  },
  {
   "cell_type": "code",
   "execution_count": null,
   "metadata": {
    "vscode": {
     "languageId": "shellscript"
    }
   },
   "outputs": [],
   "source": [
    "podman ps -a --pod"
   ]
  },
  {
   "cell_type": "markdown",
   "metadata": {},
   "source": [
    "Check frontend logs:"
   ]
  },
  {
   "cell_type": "code",
   "execution_count": null,
   "metadata": {
    "vscode": {
     "languageId": "shellscript"
    }
   },
   "outputs": [],
   "source": [
    "podman logs frontend-pod-deployment-pod-frontend"
   ]
  },
  {
   "cell_type": "markdown",
   "metadata": {},
   "source": [
    "And make sure your app is ansering http requests:"
   ]
  },
  {
   "cell_type": "code",
   "execution_count": null,
   "metadata": {
    "vscode": {
     "languageId": "shellscript"
    }
   },
   "outputs": [],
   "source": [
    "curl -s localhost:8080"
   ]
  },
  {
   "cell_type": "markdown",
   "metadata": {},
   "source": [
    "As you can see everything works perfectly!\n",
    "\n",
    "We have seen many ways in which Podman and Kubernetes are interconnected. Hopefully you can leverage all this interconnections between both technologies to have a better integration and usability in your cloud-native containerized environments.\n",
    "\n",
    "# Clean up"
   ]
  },
  {
   "cell_type": "code",
   "execution_count": null,
   "metadata": {
    "vscode": {
     "languageId": "shellscript"
    }
   },
   "outputs": [],
   "source": [
    "podman rm --all -f\n",
    "podman network prune -f\n",
    "podman volume prune -f\n",
    "podman pod prune -f\n",
    "podman image prune -f\n",
    "rm -rf ~/.config/containers/systemd/*"
   ]
  }
 ],
 "metadata": {
  "kernelspec": {
   "display_name": "SSH",
   "language": "bash",
   "name": "ssh"
  },
  "language_info": {
   "codemirror_mode": "shell",
   "file_extension": ".sh",
   "mimetype": "text/x-sh",
   "name": "ssh"
  }
 },
 "nbformat": 4,
 "nbformat_minor": 4
}

{
 "cells": [
  {
   "cell_type": "markdown",
   "metadata": {},
   "source": [
    "![Podmanlogo](Pictures/podman-logo.png)"
   ]
  },
  {
   "cell_type": "markdown",
   "metadata": {},
   "source": [
    "# From Podman to Kubernetes and viceversa\n",
    "\n",
    "As mentioned during the Podman 101 workshop, Podman is a super powerful tool but it's limited to a single system. If you want to manage multiple nodes running containers at the same time while providing high availability you need to use a multi node container orchestrator. For this purpose kubernetes has become a de facto standard, this is why Podman is able to integrate with kubernetes in different ways.\n",
    "\n",
    "Before we jump into how Podman and kubernetes work together lets think of how developers and applications will use each software. Many companies use kubernetes clusters for running their containerized applications in their datacenters or clouds. Moreover, it's pretty common to have multiple clusters to cover development, quality assurance and production environments. It looks like we would not need Podman at all in this scenario as developers are using the development kubernetes cluster, but in reality developers run a lot of their tests locally in their systems before doing any test in the development environment. This is simply because it's easier and faster as they don't need to connect to a remote system via VPN, they could even test code locally without connectivity. Of course, after the local succesful tests they would typically run additional tests on the development kubernetes cluster.\n",
    "\n",
    "We've seen how Podman can be of lot of help for developers when running local tests, but is that the only place where Podman could fit? No, it's not! There are many situations in which having a kubernetes cluster is not an optimal solution because of it's footprint. A typical example of this are remote environments, in these situations running a linux system with Podman on top fits better. There are tools that help managing Podman on multiple systems, for example Ansible. But, what matters now is that, in these cases, Podman will be running containers in production but kubernetes still has space here. In cloud native companies you'll see most of tests are run with pipelines tools on top of kubernetes, this means your workload will need to run on top of kubernetes to go through the testing process and then be deployed in production using Podman.\n",
    "\n",
    "Those two scenarios are the most common ones, but there are many more ways in which Podman and kubernetes interact with each other. This is the reason why Podman has develop many capabilities to work closely with kubernetes. It's important to understand how kubernetes work."
   ]
  }
 ],
 "metadata": {
  "kernelspec": {
   "display_name": "SSH",
   "language": "bash",
   "name": "ssh"
  },
  "language_info": {
   "codemirror_mode": "shell",
   "file_extension": ".sh",
   "mimetype": "text/x-sh",
   "name": "ssh"
  }
 },
 "nbformat": 4,
 "nbformat_minor": 4
}

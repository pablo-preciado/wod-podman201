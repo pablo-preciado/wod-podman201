{
 "cells": [
  {
   "cell_type": "markdown",
   "metadata": {},
   "source": [
    "![Podmanlogo](Pictures/podman-logo.png)"
   ]
  },
  {
   "cell_type": "markdown",
   "metadata": {},
   "source": [
    "# Managing pods\n",
    "\n",
    "All this time we've been working with simple containers, but Podman received its name because it's also a pod manager. But, what are a pods? Pods are a group of one or more containers sharing the same network, pid and ipc namespaces. If two containers are in the same pod they can reach each other by using localhost or 127.0.0.1 adress.\n",
    "\n",
    "Moreover, pods are the smaller atomic unit that kubernetes clusters can manage. Running pods is super useful to run local tests without the need of deploying them on a kubernetes cluster.\n",
    "\n",
    "Let's see how to manage pods with Podman.\n",
    "\n",
    "First we are going to create a pod, for the moment it'll be empty."
   ]
  },
  {
   "cell_type": "code",
   "execution_count": null,
   "metadata": {
    "vscode": {
     "languageId": "shellscript"
    }
   },
   "outputs": [],
   "source": [
    "podman pod create --name my-pod"
   ]
  },
  {
   "cell_type": "markdown",
   "metadata": {},
   "source": [
    "We can now see the list of our pods."
   ]
  },
  {
   "cell_type": "code",
   "execution_count": null,
   "metadata": {
    "vscode": {
     "languageId": "shellscript"
    }
   },
   "outputs": [],
   "source": [
    "podman pod ls"
   ]
  },
  {
   "cell_type": "markdown",
   "metadata": {},
   "source": [
    "We can see the list of containers and what pod they are in by running the following command:"
   ]
  },
  {
   "cell_type": "code",
   "execution_count": null,
   "metadata": {
    "vscode": {
     "languageId": "shellscript"
    }
   },
   "outputs": [],
   "source": [
    "podman ps -a --pod"
   ]
  },
  {
   "cell_type": "markdown",
   "metadata": {},
   "source": [
    "As you can see there is already a container within our pod. This is the infra container, an infra container is a lightweight container used to coordinate the shared kernel namespace of a pod. This container is created by default, you can overwrite this behaviour but it's not a recommended behaviour.\n",
    "\n",
    "We will run a wordpress workload within our pod, we will need to run a mariadb container as backend and a wordpress container as frontend. Let's first deploy the database:"
   ]
  },
  {
   "cell_type": "code",
   "execution_count": null,
   "metadata": {
    "vscode": {
     "languageId": "shellscript"
    }
   },
   "outputs": [],
   "source": [
    "podman run -d --pod my-pod \\\n",
    "  -e MYSQL_ROOT_PASSWORD=\"hpedev\" \\\n",
    "  -e MYSQL_DATABASE=\"wp\" \\\n",
    "  -e MYSQL_USER=\"wordpress\" \\\n",
    "  -e MYSQL_PASSWORD=\"wordpress\" \\\n",
    "  --name=wp-db \\\n",
    "  docker.io/library/mariadb:latest"
   ]
  },
  {
   "cell_type": "markdown",
   "metadata": {},
   "source": [
    "There are a couple of important points to mention regarding previous command. First, we have specified that our container should be part of our pod with the option \"--pod\". Second we are passing environment variables to the container with the option \"-e\", by doing this we can do some basic configuration for this instance of the container.\n",
    "\n",
    "If we list the containers and pods again we should see two containers in the same pod."
   ]
  },
  {
   "cell_type": "code",
   "execution_count": null,
   "metadata": {
    "vscode": {
     "languageId": "shellscript"
    }
   },
   "outputs": [],
   "source": [
    "podman ps -a --pod"
   ]
  },
  {
   "cell_type": "markdown",
   "metadata": {},
   "source": [
    "We can also use the following command:"
   ]
  },
  {
   "cell_type": "code",
   "execution_count": null,
   "metadata": {
    "vscode": {
     "languageId": "shellscript"
    }
   },
   "outputs": [],
   "source": [
    "podman pod ps"
   ]
  },
  {
   "cell_type": "markdown",
   "metadata": {},
   "source": [
    "Let's add the second container, the fronend."
   ]
  },
  {
   "cell_type": "code",
   "execution_count": null,
   "metadata": {
    "vscode": {
     "languageId": "shellscript"
    }
   },
   "outputs": [],
   "source": [
    "podman run -d  --pod=my-pod \\\n",
    "  -e WORDPRESS_DB_NAME=\"wp\" \\\n",
    "  -e WORDPRESS_DB_USER=\"wordpress\" \\\n",
    "  -e WORDPRESS_DB_PASSWORD=\"wordpress\" \\\n",
    "  -e WORDPRESS_DB_HOST=\"127.0.0.1\" \\\n",
    "  --name wp-web \\\n",
    "  docker.io/library/wordpress:latest"
   ]
  },
  {
   "cell_type": "markdown",
   "metadata": {},
   "source": [
    "As you can see we've used the address 127.0.0.1 for the environment variable WORDPRESS_DB_HOST, this means we're pointing to localhost for finding the database. This is only possible because both containers (the web and the database) are running in the same pod.\n",
    "\n",
    "Checking the logs we can see there is no issue with the database, confirming it works properly:"
   ]
  },
  {
   "cell_type": "code",
   "execution_count": null,
   "metadata": {
    "vscode": {
     "languageId": "shellscript"
    }
   },
   "outputs": [],
   "source": [
    "podman logs wp-web"
   ]
  },
  {
   "cell_type": "markdown",
   "metadata": {},
   "source": [
    "Last, I'd like to mention that it's possible to create a systemd unit file or quadlet for a pod. You could do that the same way we did it for a container in previous section of this workshop.\n",
    "\n",
    "# Deploy Patient Portal application using pods\n",
    "\n",
    "This time we are going to demonstrate how to deploy the patient portal application using pods. For this we will have 1 pod with the frontend and database containers. As both containers will be in the same pod they share the same network, hence we'll need a single network for all of our application.\n",
    "\n",
    "![PatientPortalApplication](Pictures/patient-portal-application-pod.png)\n",
    "\n",
    "Start creating the networks:"
   ]
  },
  {
   "cell_type": "code",
   "execution_count": null,
   "metadata": {
    "vscode": {
     "languageId": "shellscript"
    }
   },
   "outputs": [],
   "source": [
    "podman network create"
   ]
  },
  {
   "cell_type": "markdown",
   "metadata": {},
   "source": [
    "# Cleanup"
   ]
  },
  {
   "cell_type": "code",
   "execution_count": null,
   "metadata": {
    "vscode": {
     "languageId": "shellscript"
    }
   },
   "outputs": [],
   "source": [
    "podman rm --all -f\n",
    "podman network prune -f\n",
    "podman volume prune -f\n",
    "podman pod prune -f\n",
    "podman image prune -f"
   ]
  }
 ],
 "metadata": {
  "kernelspec": {
   "display_name": "Python 3",
   "language": "python",
   "name": "python3"
  },
  "language_info": {
   "codemirror_mode": {
    "name": "ipython",
    "version": 3
   },
   "file_extension": ".py",
   "mimetype": "text/x-python",
   "name": "python",
   "nbconvert_exporter": "python",
   "pygments_lexer": "ipython3",
   "version": "3.12.1"
  }
 },
 "nbformat": 4,
 "nbformat_minor": 4
}
